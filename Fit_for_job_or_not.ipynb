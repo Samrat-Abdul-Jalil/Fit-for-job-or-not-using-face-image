{
  "cells": [
    {
      "cell_type": "markdown",
      "metadata": {
        "id": "-EJa_gGQmnS4"
      },
      "source": [
        "#data loading"
      ]
    },
    {
      "cell_type": "code",
      "execution_count": null,
      "metadata": {
        "id": "T6vgKaDBl5wZ"
      },
      "outputs": [],
      "source": [
        "import pandas as pd\n",
        "import cv2\n",
        "import matplotlib.pyplot as plt\n",
        "%matplotlib inline\n",
        "import random\n",
        "import numpy as np\n",
        "import tensorflow as tf\n",
        "from tensorflow.keras import layers,models\n",
        "from keras.preprocessing.image import ImageDataGenerator\n",
        "from keras.models import Model"
      ]
    },
    {
      "cell_type": "code",
      "execution_count": null,
      "metadata": {
        "colab": {
          "base_uri": "https://localhost:8080/"
        },
        "id": "KgfLMqf8mhSq",
        "outputId": "3d85aa08-9f40-4ba7-915b-a70326592d42"
      },
      "outputs": [
        {
          "output_type": "stream",
          "name": "stdout",
          "text": [
            "Mounted at /content/drive\n"
          ]
        }
      ],
      "source": [
        "#Mount Drive\n",
        "from google.colab import drive\n",
        "drive.mount('/content/drive')"
      ]
    },
    {
      "cell_type": "code",
      "execution_count": null,
      "metadata": {
        "colab": {
          "base_uri": "https://localhost:8080/"
        },
        "id": "3l44xK6DmkPB",
        "outputId": "3cadcda9-429e-449d-d696-6e87b8a6881a"
      },
      "outputs": [
        {
          "output_type": "execute_result",
          "data": {
            "text/plain": [
              "             Timestamp  Name  University Name  Department ( বিভাগ)   Age   \\\n",
              "0  10/22/2022 22:32:33   NaN              NaN                  NaN  22-26   \n",
              "1  10/22/2022 22:44:06   NaN              NaN                  NaN  22-26   \n",
              "2  10/22/2022 23:09:45   NaN              NaN                  NaN  18-22   \n",
              "3  10/22/2022 23:10:39   NaN              NaN                  NaN  18-22   \n",
              "4  10/22/2022 23:20:01   NaN              NaN                  NaN  22-26   \n",
              "\n",
              "        hang out  punctuality  \\\n",
              "0  Yes ( হ্যাঁ )            9   \n",
              "1  Yes ( হ্যাঁ )            6   \n",
              "2  Yes ( হ্যাঁ )            7   \n",
              "3  Yes ( হ্যাঁ )            8   \n",
              "4  Yes ( হ্যাঁ )           10   \n",
              "\n",
              "                                         assignments           social media  \\\n",
              "0          I start two-three days before submission.  3-5  Hour (৩-5 ঘন্টা)   \n",
              "1          I start two-three days before submission.  3-5  Hour (৩-5 ঘন্টা)   \n",
              "2          I start two-three days before submission.  3-5  Hour (৩-5 ঘন্টা)   \n",
              "3  I start toward the end and request sir for ext...  1-3  Hour (১-৩ ঘন্টা)   \n",
              "4  I start toward the end and request sir for ext...  3-5  Hour (৩-5 ঘন্টা)   \n",
              "\n",
              "            CGPA                             skills                  study  \\\n",
              "0        No (না)  more than 5 Hour ( ৫ ঘন্টার বেশি)  3-5  Hour (৩-5 ঘন্টা)   \n",
              "1        No (না)               0-1 Hour (0-১ ঘন্টা)  1-3  Hour (১-৩ ঘন্টা)   \n",
              "2        No (না)               0-1 Hour (0-১ ঘন্টা)  1-3  Hour (১-৩ ঘন্টা)   \n",
              "3  Yes ( হ্যাঁ )  more than 5 Hour ( ৫ ঘন্টার বেশি)  1-3  Hour (১-৩ ঘন্টা)   \n",
              "4  Yes ( হ্যাঁ )               0-1 Hour (0-১ ঘন্টা)  1-3  Hour (১-৩ ঘন্টা)   \n",
              "\n",
              "     examination    hard worker  \\\n",
              "0        No (না)  Yes ( হ্যাঁ )   \n",
              "1  Yes ( হ্যাঁ )        No (না)   \n",
              "2        No (না)        No (না)   \n",
              "3  Yes ( হ্যাঁ )        No (না)   \n",
              "4  Yes ( হ্যাঁ )  Yes ( হ্যাঁ )   \n",
              "\n",
              "                                           introvert  communication skills  \\\n",
              "0                                      Yes ( হ্যাঁ )                     7   \n",
              "1                                            No (না)                     9   \n",
              "2                                            No (না)                     8   \n",
              "3  I don't know if I'm an introvert or not. But I...                     8   \n",
              "4  I don't know if I'm an introvert or not. But I...                     3   \n",
              "\n",
              "   religion                                              photo  \n",
              "0         7                   84013 (1) - Md. Nazmus Sakib.jpg  \n",
              "1         7  inbound6266109105667462293 - S.M Sifatul Islam...  \n",
              "2         9  inbound2206962629156559833 - Md Tanzimul Hasan...  \n",
              "3         9                 Badhon - Prashoman Chakrabarti.jpg  \n",
              "4         9     inbound310068632908722779 - Sajib Talukdar.jpg  "
            ],
            "text/html": [
              "\n",
              "  <div id=\"df-5a86614f-c58c-4587-84c1-9a56d10182f3\">\n",
              "    <div class=\"colab-df-container\">\n",
              "      <div>\n",
              "<style scoped>\n",
              "    .dataframe tbody tr th:only-of-type {\n",
              "        vertical-align: middle;\n",
              "    }\n",
              "\n",
              "    .dataframe tbody tr th {\n",
              "        vertical-align: top;\n",
              "    }\n",
              "\n",
              "    .dataframe thead th {\n",
              "        text-align: right;\n",
              "    }\n",
              "</style>\n",
              "<table border=\"1\" class=\"dataframe\">\n",
              "  <thead>\n",
              "    <tr style=\"text-align: right;\">\n",
              "      <th></th>\n",
              "      <th>Timestamp</th>\n",
              "      <th>Name</th>\n",
              "      <th>University Name</th>\n",
              "      <th>Department ( বিভাগ)</th>\n",
              "      <th>Age</th>\n",
              "      <th>hang out</th>\n",
              "      <th>punctuality</th>\n",
              "      <th>assignments</th>\n",
              "      <th>social media</th>\n",
              "      <th>CGPA</th>\n",
              "      <th>skills</th>\n",
              "      <th>study</th>\n",
              "      <th>examination</th>\n",
              "      <th>hard worker</th>\n",
              "      <th>introvert</th>\n",
              "      <th>communication skills</th>\n",
              "      <th>religion</th>\n",
              "      <th>photo</th>\n",
              "    </tr>\n",
              "  </thead>\n",
              "  <tbody>\n",
              "    <tr>\n",
              "      <th>0</th>\n",
              "      <td>10/22/2022 22:32:33</td>\n",
              "      <td>NaN</td>\n",
              "      <td>NaN</td>\n",
              "      <td>NaN</td>\n",
              "      <td>22-26</td>\n",
              "      <td>Yes ( হ্যাঁ )</td>\n",
              "      <td>9</td>\n",
              "      <td>I start two-three days before submission.</td>\n",
              "      <td>3-5  Hour (৩-5 ঘন্টা)</td>\n",
              "      <td>No (না)</td>\n",
              "      <td>more than 5 Hour ( ৫ ঘন্টার বেশি)</td>\n",
              "      <td>3-5  Hour (৩-5 ঘন্টা)</td>\n",
              "      <td>No (না)</td>\n",
              "      <td>Yes ( হ্যাঁ )</td>\n",
              "      <td>Yes ( হ্যাঁ )</td>\n",
              "      <td>7</td>\n",
              "      <td>7</td>\n",
              "      <td>84013 (1) - Md. Nazmus Sakib.jpg</td>\n",
              "    </tr>\n",
              "    <tr>\n",
              "      <th>1</th>\n",
              "      <td>10/22/2022 22:44:06</td>\n",
              "      <td>NaN</td>\n",
              "      <td>NaN</td>\n",
              "      <td>NaN</td>\n",
              "      <td>22-26</td>\n",
              "      <td>Yes ( হ্যাঁ )</td>\n",
              "      <td>6</td>\n",
              "      <td>I start two-three days before submission.</td>\n",
              "      <td>3-5  Hour (৩-5 ঘন্টা)</td>\n",
              "      <td>No (না)</td>\n",
              "      <td>0-1 Hour (0-১ ঘন্টা)</td>\n",
              "      <td>1-3  Hour (১-৩ ঘন্টা)</td>\n",
              "      <td>Yes ( হ্যাঁ )</td>\n",
              "      <td>No (না)</td>\n",
              "      <td>No (না)</td>\n",
              "      <td>9</td>\n",
              "      <td>7</td>\n",
              "      <td>inbound6266109105667462293 - S.M Sifatul Islam...</td>\n",
              "    </tr>\n",
              "    <tr>\n",
              "      <th>2</th>\n",
              "      <td>10/22/2022 23:09:45</td>\n",
              "      <td>NaN</td>\n",
              "      <td>NaN</td>\n",
              "      <td>NaN</td>\n",
              "      <td>18-22</td>\n",
              "      <td>Yes ( হ্যাঁ )</td>\n",
              "      <td>7</td>\n",
              "      <td>I start two-three days before submission.</td>\n",
              "      <td>3-5  Hour (৩-5 ঘন্টা)</td>\n",
              "      <td>No (না)</td>\n",
              "      <td>0-1 Hour (0-১ ঘন্টা)</td>\n",
              "      <td>1-3  Hour (১-৩ ঘন্টা)</td>\n",
              "      <td>No (না)</td>\n",
              "      <td>No (না)</td>\n",
              "      <td>No (না)</td>\n",
              "      <td>8</td>\n",
              "      <td>9</td>\n",
              "      <td>inbound2206962629156559833 - Md Tanzimul Hasan...</td>\n",
              "    </tr>\n",
              "    <tr>\n",
              "      <th>3</th>\n",
              "      <td>10/22/2022 23:10:39</td>\n",
              "      <td>NaN</td>\n",
              "      <td>NaN</td>\n",
              "      <td>NaN</td>\n",
              "      <td>18-22</td>\n",
              "      <td>Yes ( হ্যাঁ )</td>\n",
              "      <td>8</td>\n",
              "      <td>I start toward the end and request sir for ext...</td>\n",
              "      <td>1-3  Hour (১-৩ ঘন্টা)</td>\n",
              "      <td>Yes ( হ্যাঁ )</td>\n",
              "      <td>more than 5 Hour ( ৫ ঘন্টার বেশি)</td>\n",
              "      <td>1-3  Hour (১-৩ ঘন্টা)</td>\n",
              "      <td>Yes ( হ্যাঁ )</td>\n",
              "      <td>No (না)</td>\n",
              "      <td>I don't know if I'm an introvert or not. But I...</td>\n",
              "      <td>8</td>\n",
              "      <td>9</td>\n",
              "      <td>Badhon - Prashoman Chakrabarti.jpg</td>\n",
              "    </tr>\n",
              "    <tr>\n",
              "      <th>4</th>\n",
              "      <td>10/22/2022 23:20:01</td>\n",
              "      <td>NaN</td>\n",
              "      <td>NaN</td>\n",
              "      <td>NaN</td>\n",
              "      <td>22-26</td>\n",
              "      <td>Yes ( হ্যাঁ )</td>\n",
              "      <td>10</td>\n",
              "      <td>I start toward the end and request sir for ext...</td>\n",
              "      <td>3-5  Hour (৩-5 ঘন্টা)</td>\n",
              "      <td>Yes ( হ্যাঁ )</td>\n",
              "      <td>0-1 Hour (0-১ ঘন্টা)</td>\n",
              "      <td>1-3  Hour (১-৩ ঘন্টা)</td>\n",
              "      <td>Yes ( হ্যাঁ )</td>\n",
              "      <td>Yes ( হ্যাঁ )</td>\n",
              "      <td>I don't know if I'm an introvert or not. But I...</td>\n",
              "      <td>3</td>\n",
              "      <td>9</td>\n",
              "      <td>inbound310068632908722779 - Sajib Talukdar.jpg</td>\n",
              "    </tr>\n",
              "  </tbody>\n",
              "</table>\n",
              "</div>\n",
              "      <button class=\"colab-df-convert\" onclick=\"convertToInteractive('df-5a86614f-c58c-4587-84c1-9a56d10182f3')\"\n",
              "              title=\"Convert this dataframe to an interactive table.\"\n",
              "              style=\"display:none;\">\n",
              "        \n",
              "  <svg xmlns=\"http://www.w3.org/2000/svg\" height=\"24px\"viewBox=\"0 0 24 24\"\n",
              "       width=\"24px\">\n",
              "    <path d=\"M0 0h24v24H0V0z\" fill=\"none\"/>\n",
              "    <path d=\"M18.56 5.44l.94 2.06.94-2.06 2.06-.94-2.06-.94-.94-2.06-.94 2.06-2.06.94zm-11 1L8.5 8.5l.94-2.06 2.06-.94-2.06-.94L8.5 2.5l-.94 2.06-2.06.94zm10 10l.94 2.06.94-2.06 2.06-.94-2.06-.94-.94-2.06-.94 2.06-2.06.94z\"/><path d=\"M17.41 7.96l-1.37-1.37c-.4-.4-.92-.59-1.43-.59-.52 0-1.04.2-1.43.59L10.3 9.45l-7.72 7.72c-.78.78-.78 2.05 0 2.83L4 21.41c.39.39.9.59 1.41.59.51 0 1.02-.2 1.41-.59l7.78-7.78 2.81-2.81c.8-.78.8-2.07 0-2.86zM5.41 20L4 18.59l7.72-7.72 1.47 1.35L5.41 20z\"/>\n",
              "  </svg>\n",
              "      </button>\n",
              "      \n",
              "  <style>\n",
              "    .colab-df-container {\n",
              "      display:flex;\n",
              "      flex-wrap:wrap;\n",
              "      gap: 12px;\n",
              "    }\n",
              "\n",
              "    .colab-df-convert {\n",
              "      background-color: #E8F0FE;\n",
              "      border: none;\n",
              "      border-radius: 50%;\n",
              "      cursor: pointer;\n",
              "      display: none;\n",
              "      fill: #1967D2;\n",
              "      height: 32px;\n",
              "      padding: 0 0 0 0;\n",
              "      width: 32px;\n",
              "    }\n",
              "\n",
              "    .colab-df-convert:hover {\n",
              "      background-color: #E2EBFA;\n",
              "      box-shadow: 0px 1px 2px rgba(60, 64, 67, 0.3), 0px 1px 3px 1px rgba(60, 64, 67, 0.15);\n",
              "      fill: #174EA6;\n",
              "    }\n",
              "\n",
              "    [theme=dark] .colab-df-convert {\n",
              "      background-color: #3B4455;\n",
              "      fill: #D2E3FC;\n",
              "    }\n",
              "\n",
              "    [theme=dark] .colab-df-convert:hover {\n",
              "      background-color: #434B5C;\n",
              "      box-shadow: 0px 1px 3px 1px rgba(0, 0, 0, 0.15);\n",
              "      filter: drop-shadow(0px 1px 2px rgba(0, 0, 0, 0.3));\n",
              "      fill: #FFFFFF;\n",
              "    }\n",
              "  </style>\n",
              "\n",
              "      <script>\n",
              "        const buttonEl =\n",
              "          document.querySelector('#df-5a86614f-c58c-4587-84c1-9a56d10182f3 button.colab-df-convert');\n",
              "        buttonEl.style.display =\n",
              "          google.colab.kernel.accessAllowed ? 'block' : 'none';\n",
              "\n",
              "        async function convertToInteractive(key) {\n",
              "          const element = document.querySelector('#df-5a86614f-c58c-4587-84c1-9a56d10182f3');\n",
              "          const dataTable =\n",
              "            await google.colab.kernel.invokeFunction('convertToInteractive',\n",
              "                                                     [key], {});\n",
              "          if (!dataTable) return;\n",
              "\n",
              "          const docLinkHtml = 'Like what you see? Visit the ' +\n",
              "            '<a target=\"_blank\" href=https://colab.research.google.com/notebooks/data_table.ipynb>data table notebook</a>'\n",
              "            + ' to learn more about interactive tables.';\n",
              "          element.innerHTML = '';\n",
              "          dataTable['output_type'] = 'display_data';\n",
              "          await google.colab.output.renderOutput(dataTable, element);\n",
              "          const docLink = document.createElement('div');\n",
              "          docLink.innerHTML = docLinkHtml;\n",
              "          element.appendChild(docLink);\n",
              "        }\n",
              "      </script>\n",
              "    </div>\n",
              "  </div>\n",
              "  "
            ]
          },
          "metadata": {},
          "execution_count": 3
        }
      ],
      "source": [
        "#reading raw data using pandae dataframe\n",
        "import pandas as pd\n",
        "traits=pd.read_csv('/content/drive/MyDrive/DIP Project/test/semi final.xlsx - Form Responses 1.csv')\n",
        "traits.head()"
      ]
    },
    {
      "cell_type": "markdown",
      "metadata": {
        "id": "zadaJsfGmvZg"
      },
      "source": [
        "#data cleaning"
      ]
    },
    {
      "cell_type": "code",
      "execution_count": null,
      "metadata": {
        "id": "1BFeTdpRmzaA"
      },
      "outputs": [],
      "source": [
        "#Drop unnecessary column\n",
        "traits.drop(['Name','University Name','Department ( বিভাগ)'],axis=1,inplace=True)"
      ]
    },
    {
      "cell_type": "code",
      "execution_count": null,
      "metadata": {
        "id": "xXNWV-gHmzig"
      },
      "outputs": [],
      "source": [
        "#replace Column name \n",
        "traits=traits.rename({\"Age \":\"Age\"},axis=1)\n"
      ]
    },
    {
      "cell_type": "code",
      "execution_count": null,
      "metadata": {
        "colab": {
          "base_uri": "https://localhost:8080/"
        },
        "id": "Y_7YOlzKmzlq",
        "outputId": "2f06536b-aa5c-4e4c-af24-2edb867ebaac"
      },
      "outputs": [
        {
          "output_type": "stream",
          "name": "stdout",
          "text": [
            "0      0\n",
            "1      1\n",
            "2      1\n",
            "3      1\n",
            "4      1\n",
            "      ..\n",
            "97     1\n",
            "98     1\n",
            "99     0\n",
            "100    1\n",
            "101    0\n",
            "Name: introvert, Length: 102, dtype: int64\n"
          ]
        }
      ],
      "source": [
        "traits['introvert']=traits['introvert'].replace(\"Yes ( হ্যাঁ )\",0)\\\n",
        "                                      .replace(\"No (না)\",1)\\\n",
        "                                      .replace(\"I don't know if I'm an introvert or not. But I cannot talk to strangers easily. But once we get to know each other then we talk a lot.(ইন্ট্রোভার্ট কিনা জানি না।  তবে অপরিচিত কারো সাথে কথা বলতে  পরি না। কিন্তু পরিচয় একবার হয়ে গেলে অনেক বেশি কথা বলি।)\",1)\n",
        "print(traits['introvert'])"
      ]
    },
    {
      "cell_type": "code",
      "execution_count": null,
      "metadata": {
        "colab": {
          "base_uri": "https://localhost:8080/"
        },
        "id": "nek8OKhDmzoz",
        "outputId": "29632fbc-db86-4c84-a75e-e6f98a07bcf6"
      },
      "outputs": [
        {
          "output_type": "execute_result",
          "data": {
            "text/plain": [
              "0      1\n",
              "1      1\n",
              "2      1\n",
              "3      1\n",
              "4      1\n",
              "      ..\n",
              "97     1\n",
              "98     1\n",
              "99     1\n",
              "100    0\n",
              "101    1\n",
              "Name: hang out, Length: 102, dtype: int64"
            ]
          },
          "metadata": {},
          "execution_count": 7
        }
      ],
      "source": [
        "traits['hang out']=traits['hang out'].replace(\"Yes ( হ্যাঁ )\",1)\\\n",
        "                                      .replace(\"No (না)\",0)\\\n",
        "                                      .replace(\"I like to chat but now don't get time.(পছন্দ করি কিন্তু আড্ডা দেওয়া হয় নাহ।)\",2)\n",
        "traits['hang out']"
      ]
    },
    {
      "cell_type": "code",
      "execution_count": null,
      "metadata": {
        "colab": {
          "base_uri": "https://localhost:8080/"
        },
        "id": "kZlt24hlmzrn",
        "outputId": "abc2f522-a5dc-41dc-fa55-d6443b952b84"
      },
      "outputs": [
        {
          "output_type": "execute_result",
          "data": {
            "text/plain": [
              "0      0\n",
              "1      0\n",
              "2      0\n",
              "3      1\n",
              "4      1\n",
              "      ..\n",
              "97     0\n",
              "98     0\n",
              "99     0\n",
              "100    0\n",
              "101    0\n",
              "Name: CGPA, Length: 102, dtype: int64"
            ]
          },
          "metadata": {},
          "execution_count": 8
        }
      ],
      "source": [
        "traits['CGPA']=traits['CGPA'].replace(\"Yes ( হ্যাঁ )\",1)\\\n",
        "                                      .replace(\"No (না)\",0)\\\n",
        "                                     \n",
        "traits['CGPA']"
      ]
    },
    {
      "cell_type": "code",
      "execution_count": null,
      "metadata": {
        "colab": {
          "base_uri": "https://localhost:8080/"
        },
        "id": "zGISYdqsmzuf",
        "outputId": "f92184b5-37c1-4d95-8e79-bc7978948614"
      },
      "outputs": [
        {
          "output_type": "execute_result",
          "data": {
            "text/plain": [
              "0      0\n",
              "1      0\n",
              "2      0\n",
              "3      0\n",
              "4      0\n",
              "      ..\n",
              "97     0\n",
              "98     0\n",
              "99     1\n",
              "100    0\n",
              "101    0\n",
              "Name: assignments, Length: 102, dtype: int64"
            ]
          },
          "metadata": {},
          "execution_count": 9
        }
      ],
      "source": [
        "traits['assignments']=traits['assignments'].replace(\"I start two-three days before submission.(আমি জমা দেওয়ার দুই-তিন দিন আগে শুরু করি।)\",0)\\\n",
        "                                      .replace(\"I start on very first day. (আমি প্রথম দিন থেকেই শুরু করি। )\",1)\\\n",
        "                                      .replace(\"I start toward the end and request sir for extending the time.(শেষের দিকে শুরু করি এবং স্যারকে সময় বাড়িয়ে দেওয়ার জন্য অনুরোধ করি)\",0)\\\n",
        "                                      .replace(\"I start within two or three days.(আমি দুই-তিন দিনের মধ্যে শুরু করি।)\",1)\\\n",
        "                                      .replace(\"I start two-three days before submission.\",0)\\\n",
        "                                      .replace(\"I start toward the end and request sir for extending the time.\",0)\\\n",
        "                                     \n",
        "traits['assignments']"
      ]
    },
    {
      "cell_type": "code",
      "execution_count": null,
      "metadata": {
        "colab": {
          "base_uri": "https://localhost:8080/"
        },
        "id": "ALF9Z8Zymzxh",
        "outputId": "e8307bfc-fe9d-477d-83b0-f9d682753145"
      },
      "outputs": [
        {
          "output_type": "execute_result",
          "data": {
            "text/plain": [
              "0      0\n",
              "1      0\n",
              "2      0\n",
              "3      1\n",
              "4      0\n",
              "      ..\n",
              "97     0\n",
              "98     1\n",
              "99     1\n",
              "100    0\n",
              "101    0\n",
              "Name: social media, Length: 102, dtype: int64"
            ]
          },
          "metadata": {},
          "execution_count": 10
        }
      ],
      "source": [
        "traits['social media']=traits['social media'].replace(\"0-1 Hour (0-১ ঘন্টা)\",1)\\\n",
        "                                      .replace(\"1-3  Hour (১-৩ ঘন্টা)\",1)\\\n",
        "                                      .replace(\"3-5  Hour (৩-5 ঘন্টা)\",0)\\\n",
        "                                      .replace(\"more than 5 Hour ( ৫ ঘন্টার বেশি)\",0)\\\n",
        "                                     \n",
        "traits['social media']"
      ]
    },
    {
      "cell_type": "code",
      "execution_count": null,
      "metadata": {
        "colab": {
          "base_uri": "https://localhost:8080/"
        },
        "id": "tmwnfQUhmz4o",
        "outputId": "de47ac02-b403-466e-ec0d-37d3b936c1c1"
      },
      "outputs": [
        {
          "output_type": "execute_result",
          "data": {
            "text/plain": [
              "0      1\n",
              "1      0\n",
              "2      0\n",
              "3      1\n",
              "4      0\n",
              "      ..\n",
              "97     0\n",
              "98     0\n",
              "99     1\n",
              "100    0\n",
              "101    0\n",
              "Name: skills, Length: 102, dtype: int64"
            ]
          },
          "metadata": {},
          "execution_count": 11
        }
      ],
      "source": [
        "traits['skills']=traits['skills'].replace(\"0-1 Hour (0-১ ঘন্টা)\",0)\\\n",
        "                                      .replace(\"1-3  Hour (১-৩ ঘন্টা)\",0)\\\n",
        "                                      .replace(\"3-5  Hour (৩-5 ঘন্টা)\",1)\\\n",
        "                                      .replace(\"more than 5 Hour ( ৫ ঘন্টার বেশি)\",1)\\\n",
        "                                     \n",
        "traits['skills']"
      ]
    },
    {
      "cell_type": "code",
      "execution_count": null,
      "metadata": {
        "colab": {
          "base_uri": "https://localhost:8080/"
        },
        "id": "_jConLE0mz8I",
        "outputId": "28156175-4deb-409f-9b47-9bb1f9808aec"
      },
      "outputs": [
        {
          "output_type": "execute_result",
          "data": {
            "text/plain": [
              "0      1\n",
              "1      0\n",
              "2      0\n",
              "3      0\n",
              "4      0\n",
              "      ..\n",
              "97     0\n",
              "98     0\n",
              "99     0\n",
              "100    0\n",
              "101    0\n",
              "Name: study, Length: 102, dtype: int64"
            ]
          },
          "metadata": {},
          "execution_count": 12
        }
      ],
      "source": [
        "traits['study']=traits['study'].replace(\"0-1 Hour (0-১ ঘন্টা)\",0)\\\n",
        "                                      .replace(\"1-3  Hour (১-৩ ঘন্টা)\",0)\\\n",
        "                                      .replace(\"3-5  Hour (৩-5 ঘন্টা)\",1)\\\n",
        "                                      .replace(\"more than 5 Hour ( ৫ ঘন্টার বেশি)\",1)\\\n",
        "                                     \n",
        "traits['study']"
      ]
    },
    {
      "cell_type": "code",
      "execution_count": null,
      "metadata": {
        "colab": {
          "base_uri": "https://localhost:8080/"
        },
        "id": "NxoGen52mz_Z",
        "outputId": "951617a1-6ac3-4005-85e8-f1f9aef8e10a"
      },
      "outputs": [
        {
          "output_type": "execute_result",
          "data": {
            "text/plain": [
              "0      1\n",
              "1      0\n",
              "2      1\n",
              "3      0\n",
              "4      0\n",
              "      ..\n",
              "97     1\n",
              "98     1\n",
              "99     1\n",
              "100    0\n",
              "101    1\n",
              "Name: examination, Length: 102, dtype: int64"
            ]
          },
          "metadata": {},
          "execution_count": 13
        }
      ],
      "source": [
        "traits['examination']=traits['examination'].replace(\"Yes ( হ্যাঁ )\",0)\\\n",
        "                                      .replace(\"No (না)\",1)\\\n",
        "                                      .replace(\"No, I know that I would have felt the same thing even I had given  one more day.(না, আমি জানি যে আরও একদিন দিলেও আমি একই জিনিস অনুভব করতাম।)\",1)\n",
        "traits['examination']"
      ]
    },
    {
      "cell_type": "code",
      "execution_count": null,
      "metadata": {
        "colab": {
          "base_uri": "https://localhost:8080/"
        },
        "id": "riCATaY4m0G5",
        "outputId": "127c06a7-c9e3-495c-c36a-fd8aeb97e38e"
      },
      "outputs": [
        {
          "output_type": "execute_result",
          "data": {
            "text/plain": [
              "0      1\n",
              "1      0\n",
              "2      0\n",
              "3      0\n",
              "4      1\n",
              "      ..\n",
              "97     0\n",
              "98     0\n",
              "99     1\n",
              "100    0\n",
              "101    1\n",
              "Name: hard worker, Length: 102, dtype: int64"
            ]
          },
          "metadata": {},
          "execution_count": 14
        }
      ],
      "source": [
        "traits['hard worker']=traits['hard worker'].replace(\"Yes ( হ্যাঁ )\",1)\\\n",
        "                                      .replace(\"No (না)\",0)\n",
        "                                     \n",
        "traits['hard worker']"
      ]
    },
    {
      "cell_type": "code",
      "execution_count": null,
      "metadata": {
        "colab": {
          "base_uri": "https://localhost:8080/"
        },
        "id": "QkAUwxMZLt4d",
        "outputId": "57db9414-2ac5-4702-ce4f-d08a65ed8178"
      },
      "outputs": [
        {
          "output_type": "execute_result",
          "data": {
            "text/plain": [
              "0      1\n",
              "1      1\n",
              "2      0\n",
              "3      0\n",
              "4      1\n",
              "      ..\n",
              "97     1\n",
              "98     0\n",
              "99     0\n",
              "100    0\n",
              "101    0\n",
              "Name: Age, Length: 102, dtype: int64"
            ]
          },
          "metadata": {},
          "execution_count": 15
        }
      ],
      "source": [
        "traits['Age']=traits['Age'].replace(\"18-22\",0)\\\n",
        "                                      .replace(\"22-26\",1)\\\n",
        "                                      .replace(\"22\",1)\\\n",
        "                                      .replace(\"28\",2)\\\n",
        "                                      .replace(\"32\",2)\n",
        "                                     \n",
        "traits['Age']"
      ]
    },
    {
      "cell_type": "code",
      "execution_count": null,
      "metadata": {
        "colab": {
          "base_uri": "https://localhost:8080/"
        },
        "id": "MgUhfa3lLvsz",
        "outputId": "3fd3e0cc-a2a2-4101-f7cf-09b6eadc7220"
      },
      "outputs": [
        {
          "output_type": "execute_result",
          "data": {
            "text/plain": [
              "0      1\n",
              "1      1\n",
              "2      1\n",
              "3      1\n",
              "4      1\n",
              "      ..\n",
              "97     0\n",
              "98     1\n",
              "99     1\n",
              "100    0\n",
              "101    1\n",
              "Name: punctuality, Length: 102, dtype: int64"
            ]
          },
          "metadata": {},
          "execution_count": 16
        }
      ],
      "source": [
        "traits['punctuality']=traits['punctuality'].replace(1,0)\\\n",
        "                                        .replace(2,0)\\\n",
        "                                      .replace(3,0)\\\n",
        "                                      .replace(4,0)\\\n",
        "                                      .replace(5,0)\\\n",
        "                                      .replace(6,1)\\\n",
        "                                      .replace(7,1)\\\n",
        "                                      .replace(8,1)\\\n",
        "                                      .replace(9,1)\\\n",
        "                                      .replace(10,1)\n",
        "                                     \n",
        "traits['punctuality']"
      ]
    },
    {
      "cell_type": "code",
      "execution_count": null,
      "metadata": {
        "colab": {
          "base_uri": "https://localhost:8080/"
        },
        "id": "IE6cyVhbiOQO",
        "outputId": "176879e8-c4e2-4363-93c2-797a1bb4d6f8"
      },
      "outputs": [
        {
          "output_type": "execute_result",
          "data": {
            "text/plain": [
              "0      1\n",
              "1      1\n",
              "2      1\n",
              "3      1\n",
              "4      0\n",
              "      ..\n",
              "97     0\n",
              "98     1\n",
              "99     1\n",
              "100    0\n",
              "101    1\n",
              "Name: communication skills, Length: 102, dtype: int64"
            ]
          },
          "metadata": {},
          "execution_count": 17
        }
      ],
      "source": [
        "traits['communication skills']=traits['communication skills'].replace(1,0)\\\n",
        "                                      .replace(2,0)\\\n",
        "                                      .replace(3,0)\\\n",
        "                                      .replace(4,0)\\\n",
        "                                      .replace(5,0)\\\n",
        "                                      .replace(6,1)\\\n",
        "                                      .replace(7,1)\\\n",
        "                                      .replace(8,1)\\\n",
        "                                      .replace(9,1)\\\n",
        "                                      .replace(10,1)\n",
        "                                     \n",
        "traits['communication skills']"
      ]
    },
    {
      "cell_type": "code",
      "execution_count": null,
      "metadata": {
        "colab": {
          "base_uri": "https://localhost:8080/"
        },
        "id": "waGm2iS8iOhF",
        "outputId": "5278544a-9ead-4eee-b9ff-3dd81aefea11"
      },
      "outputs": [
        {
          "output_type": "execute_result",
          "data": {
            "text/plain": [
              "               Timestamp  punctuality  assignments  social media  CGPA  \\\n",
              "0    10/22/2022 22:32:33            1            0             0     0   \n",
              "1    10/22/2022 22:44:06            1            0             0     0   \n",
              "2    10/22/2022 23:09:45            1            0             0     0   \n",
              "3    10/22/2022 23:10:39            1            0             1     1   \n",
              "4    10/22/2022 23:20:01            1            0             0     1   \n",
              "..                   ...          ...          ...           ...   ...   \n",
              "97   10/30/2022 17:03:39            0            0             0     0   \n",
              "98    10/31/2022 9:49:54            1            0             1     0   \n",
              "99   10/31/2022 15:14:42            1            1             1     0   \n",
              "100   11/1/2022 17:45:51            0            0             0     0   \n",
              "101   11/3/2022 18:32:34            1            0             0     0   \n",
              "\n",
              "     skills  study  examination  hard worker  introvert  communication skills  \\\n",
              "0         1      1            1            1          0                     1   \n",
              "1         0      0            0            0          1                     1   \n",
              "2         0      0            1            0          1                     1   \n",
              "3         1      0            0            0          1                     1   \n",
              "4         0      0            0            1          1                     0   \n",
              "..      ...    ...          ...          ...        ...                   ...   \n",
              "97        0      0            1            0          1                     0   \n",
              "98        0      0            1            0          1                     1   \n",
              "99        1      0            1            1          0                     1   \n",
              "100       0      0            0            0          1                     0   \n",
              "101       0      0            1            1          0                     1   \n",
              "\n",
              "                                                 photo  \n",
              "0                     84013 (1) - Md. Nazmus Sakib.jpg  \n",
              "1    inbound6266109105667462293 - S.M Sifatul Islam...  \n",
              "2    inbound2206962629156559833 - Md Tanzimul Hasan...  \n",
              "3                   Badhon - Prashoman Chakrabarti.jpg  \n",
              "4       inbound310068632908722779 - Sajib Talukdar.jpg  \n",
              "..                                                 ...  \n",
              "97           IMG20221010101739 - Md. Alamin Bhuyan.jpg  \n",
              "98            maom - Md. Abu Obaida Mullick (MAOM).jpg  \n",
              "99              IMG-20221007-WA0196 - abir hossain.jpg  \n",
              "100         IMG_20221101_174219 - Md. Abdur Rahman.jpg  \n",
              "101  CamScanner 08-17-2022 19.58_2 2-1 - Akib Ibna ...  \n",
              "\n",
              "[102 rows x 12 columns]"
            ],
            "text/html": [
              "\n",
              "  <div id=\"df-b91e5244-768f-40c2-985c-bca75e4dc159\">\n",
              "    <div class=\"colab-df-container\">\n",
              "      <div>\n",
              "<style scoped>\n",
              "    .dataframe tbody tr th:only-of-type {\n",
              "        vertical-align: middle;\n",
              "    }\n",
              "\n",
              "    .dataframe tbody tr th {\n",
              "        vertical-align: top;\n",
              "    }\n",
              "\n",
              "    .dataframe thead th {\n",
              "        text-align: right;\n",
              "    }\n",
              "</style>\n",
              "<table border=\"1\" class=\"dataframe\">\n",
              "  <thead>\n",
              "    <tr style=\"text-align: right;\">\n",
              "      <th></th>\n",
              "      <th>Timestamp</th>\n",
              "      <th>punctuality</th>\n",
              "      <th>assignments</th>\n",
              "      <th>social media</th>\n",
              "      <th>CGPA</th>\n",
              "      <th>skills</th>\n",
              "      <th>study</th>\n",
              "      <th>examination</th>\n",
              "      <th>hard worker</th>\n",
              "      <th>introvert</th>\n",
              "      <th>communication skills</th>\n",
              "      <th>photo</th>\n",
              "    </tr>\n",
              "  </thead>\n",
              "  <tbody>\n",
              "    <tr>\n",
              "      <th>0</th>\n",
              "      <td>10/22/2022 22:32:33</td>\n",
              "      <td>1</td>\n",
              "      <td>0</td>\n",
              "      <td>0</td>\n",
              "      <td>0</td>\n",
              "      <td>1</td>\n",
              "      <td>1</td>\n",
              "      <td>1</td>\n",
              "      <td>1</td>\n",
              "      <td>0</td>\n",
              "      <td>1</td>\n",
              "      <td>84013 (1) - Md. Nazmus Sakib.jpg</td>\n",
              "    </tr>\n",
              "    <tr>\n",
              "      <th>1</th>\n",
              "      <td>10/22/2022 22:44:06</td>\n",
              "      <td>1</td>\n",
              "      <td>0</td>\n",
              "      <td>0</td>\n",
              "      <td>0</td>\n",
              "      <td>0</td>\n",
              "      <td>0</td>\n",
              "      <td>0</td>\n",
              "      <td>0</td>\n",
              "      <td>1</td>\n",
              "      <td>1</td>\n",
              "      <td>inbound6266109105667462293 - S.M Sifatul Islam...</td>\n",
              "    </tr>\n",
              "    <tr>\n",
              "      <th>2</th>\n",
              "      <td>10/22/2022 23:09:45</td>\n",
              "      <td>1</td>\n",
              "      <td>0</td>\n",
              "      <td>0</td>\n",
              "      <td>0</td>\n",
              "      <td>0</td>\n",
              "      <td>0</td>\n",
              "      <td>1</td>\n",
              "      <td>0</td>\n",
              "      <td>1</td>\n",
              "      <td>1</td>\n",
              "      <td>inbound2206962629156559833 - Md Tanzimul Hasan...</td>\n",
              "    </tr>\n",
              "    <tr>\n",
              "      <th>3</th>\n",
              "      <td>10/22/2022 23:10:39</td>\n",
              "      <td>1</td>\n",
              "      <td>0</td>\n",
              "      <td>1</td>\n",
              "      <td>1</td>\n",
              "      <td>1</td>\n",
              "      <td>0</td>\n",
              "      <td>0</td>\n",
              "      <td>0</td>\n",
              "      <td>1</td>\n",
              "      <td>1</td>\n",
              "      <td>Badhon - Prashoman Chakrabarti.jpg</td>\n",
              "    </tr>\n",
              "    <tr>\n",
              "      <th>4</th>\n",
              "      <td>10/22/2022 23:20:01</td>\n",
              "      <td>1</td>\n",
              "      <td>0</td>\n",
              "      <td>0</td>\n",
              "      <td>1</td>\n",
              "      <td>0</td>\n",
              "      <td>0</td>\n",
              "      <td>0</td>\n",
              "      <td>1</td>\n",
              "      <td>1</td>\n",
              "      <td>0</td>\n",
              "      <td>inbound310068632908722779 - Sajib Talukdar.jpg</td>\n",
              "    </tr>\n",
              "    <tr>\n",
              "      <th>...</th>\n",
              "      <td>...</td>\n",
              "      <td>...</td>\n",
              "      <td>...</td>\n",
              "      <td>...</td>\n",
              "      <td>...</td>\n",
              "      <td>...</td>\n",
              "      <td>...</td>\n",
              "      <td>...</td>\n",
              "      <td>...</td>\n",
              "      <td>...</td>\n",
              "      <td>...</td>\n",
              "      <td>...</td>\n",
              "    </tr>\n",
              "    <tr>\n",
              "      <th>97</th>\n",
              "      <td>10/30/2022 17:03:39</td>\n",
              "      <td>0</td>\n",
              "      <td>0</td>\n",
              "      <td>0</td>\n",
              "      <td>0</td>\n",
              "      <td>0</td>\n",
              "      <td>0</td>\n",
              "      <td>1</td>\n",
              "      <td>0</td>\n",
              "      <td>1</td>\n",
              "      <td>0</td>\n",
              "      <td>IMG20221010101739 - Md. Alamin Bhuyan.jpg</td>\n",
              "    </tr>\n",
              "    <tr>\n",
              "      <th>98</th>\n",
              "      <td>10/31/2022 9:49:54</td>\n",
              "      <td>1</td>\n",
              "      <td>0</td>\n",
              "      <td>1</td>\n",
              "      <td>0</td>\n",
              "      <td>0</td>\n",
              "      <td>0</td>\n",
              "      <td>1</td>\n",
              "      <td>0</td>\n",
              "      <td>1</td>\n",
              "      <td>1</td>\n",
              "      <td>maom - Md. Abu Obaida Mullick (MAOM).jpg</td>\n",
              "    </tr>\n",
              "    <tr>\n",
              "      <th>99</th>\n",
              "      <td>10/31/2022 15:14:42</td>\n",
              "      <td>1</td>\n",
              "      <td>1</td>\n",
              "      <td>1</td>\n",
              "      <td>0</td>\n",
              "      <td>1</td>\n",
              "      <td>0</td>\n",
              "      <td>1</td>\n",
              "      <td>1</td>\n",
              "      <td>0</td>\n",
              "      <td>1</td>\n",
              "      <td>IMG-20221007-WA0196 - abir hossain.jpg</td>\n",
              "    </tr>\n",
              "    <tr>\n",
              "      <th>100</th>\n",
              "      <td>11/1/2022 17:45:51</td>\n",
              "      <td>0</td>\n",
              "      <td>0</td>\n",
              "      <td>0</td>\n",
              "      <td>0</td>\n",
              "      <td>0</td>\n",
              "      <td>0</td>\n",
              "      <td>0</td>\n",
              "      <td>0</td>\n",
              "      <td>1</td>\n",
              "      <td>0</td>\n",
              "      <td>IMG_20221101_174219 - Md. Abdur Rahman.jpg</td>\n",
              "    </tr>\n",
              "    <tr>\n",
              "      <th>101</th>\n",
              "      <td>11/3/2022 18:32:34</td>\n",
              "      <td>1</td>\n",
              "      <td>0</td>\n",
              "      <td>0</td>\n",
              "      <td>0</td>\n",
              "      <td>0</td>\n",
              "      <td>0</td>\n",
              "      <td>1</td>\n",
              "      <td>1</td>\n",
              "      <td>0</td>\n",
              "      <td>1</td>\n",
              "      <td>CamScanner 08-17-2022 19.58_2 2-1 - Akib Ibna ...</td>\n",
              "    </tr>\n",
              "  </tbody>\n",
              "</table>\n",
              "<p>102 rows × 12 columns</p>\n",
              "</div>\n",
              "      <button class=\"colab-df-convert\" onclick=\"convertToInteractive('df-b91e5244-768f-40c2-985c-bca75e4dc159')\"\n",
              "              title=\"Convert this dataframe to an interactive table.\"\n",
              "              style=\"display:none;\">\n",
              "        \n",
              "  <svg xmlns=\"http://www.w3.org/2000/svg\" height=\"24px\"viewBox=\"0 0 24 24\"\n",
              "       width=\"24px\">\n",
              "    <path d=\"M0 0h24v24H0V0z\" fill=\"none\"/>\n",
              "    <path d=\"M18.56 5.44l.94 2.06.94-2.06 2.06-.94-2.06-.94-.94-2.06-.94 2.06-2.06.94zm-11 1L8.5 8.5l.94-2.06 2.06-.94-2.06-.94L8.5 2.5l-.94 2.06-2.06.94zm10 10l.94 2.06.94-2.06 2.06-.94-2.06-.94-.94-2.06-.94 2.06-2.06.94z\"/><path d=\"M17.41 7.96l-1.37-1.37c-.4-.4-.92-.59-1.43-.59-.52 0-1.04.2-1.43.59L10.3 9.45l-7.72 7.72c-.78.78-.78 2.05 0 2.83L4 21.41c.39.39.9.59 1.41.59.51 0 1.02-.2 1.41-.59l7.78-7.78 2.81-2.81c.8-.78.8-2.07 0-2.86zM5.41 20L4 18.59l7.72-7.72 1.47 1.35L5.41 20z\"/>\n",
              "  </svg>\n",
              "      </button>\n",
              "      \n",
              "  <style>\n",
              "    .colab-df-container {\n",
              "      display:flex;\n",
              "      flex-wrap:wrap;\n",
              "      gap: 12px;\n",
              "    }\n",
              "\n",
              "    .colab-df-convert {\n",
              "      background-color: #E8F0FE;\n",
              "      border: none;\n",
              "      border-radius: 50%;\n",
              "      cursor: pointer;\n",
              "      display: none;\n",
              "      fill: #1967D2;\n",
              "      height: 32px;\n",
              "      padding: 0 0 0 0;\n",
              "      width: 32px;\n",
              "    }\n",
              "\n",
              "    .colab-df-convert:hover {\n",
              "      background-color: #E2EBFA;\n",
              "      box-shadow: 0px 1px 2px rgba(60, 64, 67, 0.3), 0px 1px 3px 1px rgba(60, 64, 67, 0.15);\n",
              "      fill: #174EA6;\n",
              "    }\n",
              "\n",
              "    [theme=dark] .colab-df-convert {\n",
              "      background-color: #3B4455;\n",
              "      fill: #D2E3FC;\n",
              "    }\n",
              "\n",
              "    [theme=dark] .colab-df-convert:hover {\n",
              "      background-color: #434B5C;\n",
              "      box-shadow: 0px 1px 3px 1px rgba(0, 0, 0, 0.15);\n",
              "      filter: drop-shadow(0px 1px 2px rgba(0, 0, 0, 0.3));\n",
              "      fill: #FFFFFF;\n",
              "    }\n",
              "  </style>\n",
              "\n",
              "      <script>\n",
              "        const buttonEl =\n",
              "          document.querySelector('#df-b91e5244-768f-40c2-985c-bca75e4dc159 button.colab-df-convert');\n",
              "        buttonEl.style.display =\n",
              "          google.colab.kernel.accessAllowed ? 'block' : 'none';\n",
              "\n",
              "        async function convertToInteractive(key) {\n",
              "          const element = document.querySelector('#df-b91e5244-768f-40c2-985c-bca75e4dc159');\n",
              "          const dataTable =\n",
              "            await google.colab.kernel.invokeFunction('convertToInteractive',\n",
              "                                                     [key], {});\n",
              "          if (!dataTable) return;\n",
              "\n",
              "          const docLinkHtml = 'Like what you see? Visit the ' +\n",
              "            '<a target=\"_blank\" href=https://colab.research.google.com/notebooks/data_table.ipynb>data table notebook</a>'\n",
              "            + ' to learn more about interactive tables.';\n",
              "          element.innerHTML = '';\n",
              "          dataTable['output_type'] = 'display_data';\n",
              "          await google.colab.output.renderOutput(dataTable, element);\n",
              "          const docLink = document.createElement('div');\n",
              "          docLink.innerHTML = docLinkHtml;\n",
              "          element.appendChild(docLink);\n",
              "        }\n",
              "      </script>\n",
              "    </div>\n",
              "  </div>\n",
              "  "
            ]
          },
          "metadata": {},
          "execution_count": 18
        }
      ],
      "source": [
        "traits.drop(columns=['religion','Age','hang out'])"
      ]
    },
    {
      "cell_type": "markdown",
      "metadata": {
        "id": "HsdifWkxL5Ui"
      },
      "source": [
        "#weight assign and data proccesing"
      ]
    },
    {
      "cell_type": "code",
      "execution_count": null,
      "metadata": {
        "colab": {
          "base_uri": "https://localhost:8080/"
        },
        "id": "JZLYCTGnixUf",
        "outputId": "ce1bd348-b62a-42ab-fc7d-ed97ec7c85a1"
      },
      "outputs": [
        {
          "output_type": "execute_result",
          "data": {
            "text/plain": [
              "7.0"
            ]
          },
          "metadata": {},
          "execution_count": 19
        }
      ],
      "source": [
        "list_=[]\n",
        "for i in range(102):\n",
        "  result=((traits['introvert'][i]*1.5)+(traits['punctuality'][i]*2)+(traits['communication skills'][i]*2)+(traits['hard worker'][i]*2)+(traits['skills'][i]*2.5)+\n",
        "         (traits['examination'][i]*1)+(traits['study'][i]*1)+(traits['social media'][i]*1)+(traits['assignments'][i]*2)+(traits['CGPA'][i]*1.5))\n",
        "  list_.append(result)\n",
        "result"
      ]
    },
    {
      "cell_type": "code",
      "execution_count": null,
      "metadata": {
        "colab": {
          "base_uri": "https://localhost:8080/"
        },
        "id": "4_9i_PmqL-XT",
        "outputId": "07f2a2cb-0105-495e-8207-f522b8414fca"
      },
      "outputs": [
        {
          "output_type": "execute_result",
          "data": {
            "text/plain": [
              "102"
            ]
          },
          "metadata": {},
          "execution_count": 20
        }
      ],
      "source": [
        "class_list=[]\n",
        "for j in list_:\n",
        "  if(j < 8):\n",
        "    class_list.append(0)\n",
        "  else:\n",
        "    class_list.append(1)\n",
        "len(class_list)"
      ]
    },
    {
      "cell_type": "code",
      "execution_count": null,
      "metadata": {
        "id": "ml9f6_lAL-hT"
      },
      "outputs": [],
      "source": [
        "filtered=pd.DataFrame({'Selected':class_list,\n",
        "                   'photo':traits['photo'] })"
      ]
    },
    {
      "cell_type": "code",
      "execution_count": null,
      "metadata": {
        "colab": {
          "base_uri": "https://localhost:8080/",
          "height": 206
        },
        "id": "Z6bQT_MvQgRy",
        "outputId": "d150690a-37db-4f7f-dead-b63ba69a4ea7"
      },
      "outputs": [
        {
          "output_type": "execute_result",
          "data": {
            "text/plain": [
              "   Selected                                              photo\n",
              "0         1                   84013 (1) - Md. Nazmus Sakib.jpg\n",
              "1         0  inbound6266109105667462293 - S.M Sifatul Islam...\n",
              "2         0  inbound2206962629156559833 - Md Tanzimul Hasan...\n",
              "3         1                 Badhon - Prashoman Chakrabarti.jpg\n",
              "4         0     inbound310068632908722779 - Sajib Talukdar.jpg"
            ],
            "text/html": [
              "\n",
              "  <div id=\"df-04fa1f05-af2f-40b9-8db1-5f7b80a625ae\">\n",
              "    <div class=\"colab-df-container\">\n",
              "      <div>\n",
              "<style scoped>\n",
              "    .dataframe tbody tr th:only-of-type {\n",
              "        vertical-align: middle;\n",
              "    }\n",
              "\n",
              "    .dataframe tbody tr th {\n",
              "        vertical-align: top;\n",
              "    }\n",
              "\n",
              "    .dataframe thead th {\n",
              "        text-align: right;\n",
              "    }\n",
              "</style>\n",
              "<table border=\"1\" class=\"dataframe\">\n",
              "  <thead>\n",
              "    <tr style=\"text-align: right;\">\n",
              "      <th></th>\n",
              "      <th>Selected</th>\n",
              "      <th>photo</th>\n",
              "    </tr>\n",
              "  </thead>\n",
              "  <tbody>\n",
              "    <tr>\n",
              "      <th>0</th>\n",
              "      <td>1</td>\n",
              "      <td>84013 (1) - Md. Nazmus Sakib.jpg</td>\n",
              "    </tr>\n",
              "    <tr>\n",
              "      <th>1</th>\n",
              "      <td>0</td>\n",
              "      <td>inbound6266109105667462293 - S.M Sifatul Islam...</td>\n",
              "    </tr>\n",
              "    <tr>\n",
              "      <th>2</th>\n",
              "      <td>0</td>\n",
              "      <td>inbound2206962629156559833 - Md Tanzimul Hasan...</td>\n",
              "    </tr>\n",
              "    <tr>\n",
              "      <th>3</th>\n",
              "      <td>1</td>\n",
              "      <td>Badhon - Prashoman Chakrabarti.jpg</td>\n",
              "    </tr>\n",
              "    <tr>\n",
              "      <th>4</th>\n",
              "      <td>0</td>\n",
              "      <td>inbound310068632908722779 - Sajib Talukdar.jpg</td>\n",
              "    </tr>\n",
              "  </tbody>\n",
              "</table>\n",
              "</div>\n",
              "      <button class=\"colab-df-convert\" onclick=\"convertToInteractive('df-04fa1f05-af2f-40b9-8db1-5f7b80a625ae')\"\n",
              "              title=\"Convert this dataframe to an interactive table.\"\n",
              "              style=\"display:none;\">\n",
              "        \n",
              "  <svg xmlns=\"http://www.w3.org/2000/svg\" height=\"24px\"viewBox=\"0 0 24 24\"\n",
              "       width=\"24px\">\n",
              "    <path d=\"M0 0h24v24H0V0z\" fill=\"none\"/>\n",
              "    <path d=\"M18.56 5.44l.94 2.06.94-2.06 2.06-.94-2.06-.94-.94-2.06-.94 2.06-2.06.94zm-11 1L8.5 8.5l.94-2.06 2.06-.94-2.06-.94L8.5 2.5l-.94 2.06-2.06.94zm10 10l.94 2.06.94-2.06 2.06-.94-2.06-.94-.94-2.06-.94 2.06-2.06.94z\"/><path d=\"M17.41 7.96l-1.37-1.37c-.4-.4-.92-.59-1.43-.59-.52 0-1.04.2-1.43.59L10.3 9.45l-7.72 7.72c-.78.78-.78 2.05 0 2.83L4 21.41c.39.39.9.59 1.41.59.51 0 1.02-.2 1.41-.59l7.78-7.78 2.81-2.81c.8-.78.8-2.07 0-2.86zM5.41 20L4 18.59l7.72-7.72 1.47 1.35L5.41 20z\"/>\n",
              "  </svg>\n",
              "      </button>\n",
              "      \n",
              "  <style>\n",
              "    .colab-df-container {\n",
              "      display:flex;\n",
              "      flex-wrap:wrap;\n",
              "      gap: 12px;\n",
              "    }\n",
              "\n",
              "    .colab-df-convert {\n",
              "      background-color: #E8F0FE;\n",
              "      border: none;\n",
              "      border-radius: 50%;\n",
              "      cursor: pointer;\n",
              "      display: none;\n",
              "      fill: #1967D2;\n",
              "      height: 32px;\n",
              "      padding: 0 0 0 0;\n",
              "      width: 32px;\n",
              "    }\n",
              "\n",
              "    .colab-df-convert:hover {\n",
              "      background-color: #E2EBFA;\n",
              "      box-shadow: 0px 1px 2px rgba(60, 64, 67, 0.3), 0px 1px 3px 1px rgba(60, 64, 67, 0.15);\n",
              "      fill: #174EA6;\n",
              "    }\n",
              "\n",
              "    [theme=dark] .colab-df-convert {\n",
              "      background-color: #3B4455;\n",
              "      fill: #D2E3FC;\n",
              "    }\n",
              "\n",
              "    [theme=dark] .colab-df-convert:hover {\n",
              "      background-color: #434B5C;\n",
              "      box-shadow: 0px 1px 3px 1px rgba(0, 0, 0, 0.15);\n",
              "      filter: drop-shadow(0px 1px 2px rgba(0, 0, 0, 0.3));\n",
              "      fill: #FFFFFF;\n",
              "    }\n",
              "  </style>\n",
              "\n",
              "      <script>\n",
              "        const buttonEl =\n",
              "          document.querySelector('#df-04fa1f05-af2f-40b9-8db1-5f7b80a625ae button.colab-df-convert');\n",
              "        buttonEl.style.display =\n",
              "          google.colab.kernel.accessAllowed ? 'block' : 'none';\n",
              "\n",
              "        async function convertToInteractive(key) {\n",
              "          const element = document.querySelector('#df-04fa1f05-af2f-40b9-8db1-5f7b80a625ae');\n",
              "          const dataTable =\n",
              "            await google.colab.kernel.invokeFunction('convertToInteractive',\n",
              "                                                     [key], {});\n",
              "          if (!dataTable) return;\n",
              "\n",
              "          const docLinkHtml = 'Like what you see? Visit the ' +\n",
              "            '<a target=\"_blank\" href=https://colab.research.google.com/notebooks/data_table.ipynb>data table notebook</a>'\n",
              "            + ' to learn more about interactive tables.';\n",
              "          element.innerHTML = '';\n",
              "          dataTable['output_type'] = 'display_data';\n",
              "          await google.colab.output.renderOutput(dataTable, element);\n",
              "          const docLink = document.createElement('div');\n",
              "          docLink.innerHTML = docLinkHtml;\n",
              "          element.appendChild(docLink);\n",
              "        }\n",
              "      </script>\n",
              "    </div>\n",
              "  </div>\n",
              "  "
            ]
          },
          "metadata": {},
          "execution_count": 22
        }
      ],
      "source": [
        "filtered.head()"
      ]
    },
    {
      "cell_type": "code",
      "execution_count": null,
      "metadata": {
        "id": "X2EYdO1lGq_7"
      },
      "outputs": [],
      "source": []
    },
    {
      "cell_type": "markdown",
      "metadata": {
        "id": "ZoeA-PciOSA3"
      },
      "source": [
        "#finding fit for job or not using cnn"
      ]
    },
    {
      "cell_type": "code",
      "execution_count": null,
      "metadata": {
        "colab": {
          "base_uri": "https://localhost:8080/"
        },
        "id": "-v_qZbmTOZX_",
        "outputId": "1fc014d9-5c10-4000-a8b0-49f3ed08aefc"
      },
      "outputs": [
        {
          "output_type": "stream",
          "name": "stdout",
          "text": [
            "not done21\n",
            "not done22\n",
            "not done34\n",
            "not done37\n",
            "not done97\n"
          ]
        }
      ],
      "source": [
        "Image_train=[]\n",
        "Image_test=[]\n",
        "\n",
        "for i in range(102):\n",
        "   img=filtered[\"photo\"][i]\n",
        "   try:\n",
        "    image_path='/content/drive/MyDrive/image/final segmented image/'+img\n",
        "    image_r=cv2.imread(image_path)\n",
        "    image=cv2.resize(image_r,(224,224))\n",
        "    Class=filtered[\"Selected\"][i]\n",
        "    Image_train.append([image,Class])\n",
        "   except:\n",
        "    print(\"not done\"+str(i))"
      ]
    },
    {
      "cell_type": "code",
      "execution_count": null,
      "metadata": {
        "colab": {
          "base_uri": "https://localhost:8080/"
        },
        "id": "XaHe3BGSh_ey",
        "outputId": "383599ab-9374-4639-c696-3ce734edc3f1"
      },
      "outputs": [
        {
          "output_type": "stream",
          "name": "stdout",
          "text": [
            "not done21\n",
            "not done22\n",
            "not done34\n",
            "not done37\n",
            "not done97\n"
          ]
        }
      ],
      "source": [
        "Image_train=[]\n",
        "Image_test=[]\n",
        "\n",
        "for i in range(102):\n",
        "   img=filtered[\"photo\"][i]\n",
        "   try:\n",
        "    image_path='/content/drive/MyDrive/image/final segmented image/'+img\n",
        "    image_r=cv2.imread(image_path)\n",
        "    image=cv2.resize(image_r,(224,224))\n",
        "\n",
        "    if i%5==0:\n",
        "      Class=filtered[\"Selected\"][i]\n",
        "      Image_test.append([image,Class])\n",
        "    else:\n",
        "      Class=filtered[\"Selected\"][i]\n",
        "      Image_train.append([image,Class])\n",
        "   except:\n",
        "    print(\"not done\"+str(i))"
      ]
    },
    {
      "cell_type": "code",
      "execution_count": null,
      "metadata": {
        "id": "7ViLbx5aOZbQ"
      },
      "outputs": [],
      "source": [
        "random.shuffle(Image_train)\n",
        "random.shuffle(Image_test)\n",
        "X_train=[]\n",
        "Y_train=[]\n",
        "X_test=[]\n",
        "Y_test=[]\n",
        "for x,y in Image_train:\n",
        "  X_train.append(x)\n",
        "  Y_train.append(y)\n",
        "for x,y in Image_test:\n",
        "  X_test.append(x)\n",
        "  Y_test.append(y)"
      ]
    },
    {
      "cell_type": "code",
      "execution_count": null,
      "metadata": {
        "id": "XEzefPFJOZhA"
      },
      "outputs": [],
      "source": [
        "X_train=np.array(X_train).reshape(-1,224,224,3)\n",
        "X_test=np.array(X_test).reshape(-1,224,224,3)\n",
        "X_train=X_train/255.0\n",
        "X_test=X_test/255\n",
        "Y_train=np.array(Y_train)\n",
        "Y_test=np.array(Y_test)"
      ]
    },
    {
      "cell_type": "code",
      "execution_count": null,
      "metadata": {
        "id": "NVPJDyPaendx"
      },
      "outputs": [],
      "source": [
        "datagen = ImageDataGenerator(\n",
        "    featurewise_center=True,\n",
        "    featurewise_std_normalization=True,\n",
        "    rotation_range=20,\n",
        "    width_shift_range=0.2,\n",
        "    height_shift_range=0.2,\n",
        "    horizontal_flip=True,\n",
        "    validation_split=0.2)"
      ]
    },
    {
      "cell_type": "code",
      "execution_count": null,
      "metadata": {
        "id": "H6_Tjkfaf185"
      },
      "outputs": [],
      "source": [
        "datagen.fit(X_train)"
      ]
    },
    {
      "cell_type": "code",
      "execution_count": null,
      "metadata": {
        "colab": {
          "base_uri": "https://localhost:8080/"
        },
        "id": "f9BKKOBvOZkB",
        "outputId": "efa07820-c811-434c-c849-d5a937b9f5e6"
      },
      "outputs": [
        {
          "output_type": "stream",
          "name": "stdout",
          "text": [
            "Model: \"sequential_1\"\n",
            "_________________________________________________________________\n",
            " Layer (type)                Output Shape              Param #   \n",
            "=================================================================\n",
            " conv2d_5 (Conv2D)           (None, 222, 222, 128)     3584      \n",
            "                                                                 \n",
            " max_pooling2d_5 (MaxPooling  (None, 111, 111, 128)    0         \n",
            " 2D)                                                             \n",
            "                                                                 \n",
            " conv2d_6 (Conv2D)           (None, 109, 109, 64)      73792     \n",
            "                                                                 \n",
            " max_pooling2d_6 (MaxPooling  (None, 54, 54, 64)       0         \n",
            " 2D)                                                             \n",
            "                                                                 \n",
            " conv2d_7 (Conv2D)           (None, 52, 52, 32)        18464     \n",
            "                                                                 \n",
            " max_pooling2d_7 (MaxPooling  (None, 26, 26, 32)       0         \n",
            " 2D)                                                             \n",
            "                                                                 \n",
            " conv2d_8 (Conv2D)           (None, 24, 24, 16)        4624      \n",
            "                                                                 \n",
            " max_pooling2d_8 (MaxPooling  (None, 12, 12, 16)       0         \n",
            " 2D)                                                             \n",
            "                                                                 \n",
            " conv2d_9 (Conv2D)           (None, 10, 10, 32)        4640      \n",
            "                                                                 \n",
            " max_pooling2d_9 (MaxPooling  (None, 5, 5, 32)         0         \n",
            " 2D)                                                             \n",
            "                                                                 \n",
            " flatten_1 (Flatten)         (None, 800)               0         \n",
            "                                                                 \n",
            " dense_3 (Dense)             (None, 128)               102528    \n",
            "                                                                 \n",
            " dense_4 (Dense)             (None, 64)                8256      \n",
            "                                                                 \n",
            " dense_5 (Dense)             (None, 1)                 65        \n",
            "                                                                 \n",
            "=================================================================\n",
            "Total params: 215,953\n",
            "Trainable params: 215,953\n",
            "Non-trainable params: 0\n",
            "_________________________________________________________________\n"
          ]
        }
      ],
      "source": [
        "CNN=models.Sequential([\n",
        "    layers.Conv2D(128,(3,3),activation='relu',input_shape=(224,224,3)),\n",
        "    layers.MaxPooling2D(2,2),\n",
        "    layers.Conv2D(64,(3,3),activation='relu'),\n",
        "    layers.MaxPooling2D(2,2),\n",
        "    layers.Conv2D(32,(3,3),activation='relu'),\n",
        "    layers.MaxPooling2D(2,2),\n",
        "     layers.Conv2D(16,(3,3),activation='relu'),\n",
        "    layers.MaxPooling2D(2,2),\n",
        "     layers.Conv2D(32,(3,3),activation='relu'),\n",
        "    layers.MaxPooling2D(2,2),\n",
        "    layers.Flatten(),\n",
        "    layers.Dense(128,activation='relu'),\n",
        "    layers.Dense(64,activation='relu'),\n",
        "    layers.Dense(1,activation='sigmoid')\n",
        "\n",
        "\n",
        "])\n",
        "CNN.summary()"
      ]
    },
    {
      "cell_type": "code",
      "execution_count": null,
      "metadata": {
        "id": "k0uhcoklOZo2"
      },
      "outputs": [],
      "source": [
        "CNN.compile(loss='binary_crossentropy',optimizer='adam',metrics=['accuracy'])"
      ]
    },
    {
      "cell_type": "code",
      "execution_count": null,
      "metadata": {
        "colab": {
          "base_uri": "https://localhost:8080/"
        },
        "id": "2WnTmSFIgE6x",
        "outputId": "db5a63ab-256c-4156-ab0f-6554b698c649"
      },
      "outputs": [
        {
          "output_type": "stream",
          "name": "stdout",
          "text": [
            "Epoch 1/10\n",
            "2/2 [==============================] - 15s 7s/step - loss: 0.6756 - accuracy: 0.6066\n",
            "Epoch 2/10\n",
            "2/2 [==============================] - 14s 7s/step - loss: 0.6936 - accuracy: 0.6066\n",
            "Epoch 3/10\n",
            "2/2 [==============================] - 18s 10s/step - loss: 0.6775 - accuracy: 0.5902\n",
            "Epoch 4/10\n",
            "2/2 [==============================] - 14s 7s/step - loss: 0.6740 - accuracy: 0.6066\n",
            "Epoch 5/10\n",
            "2/2 [==============================] - 14s 7s/step - loss: 0.6983 - accuracy: 0.6066\n",
            "Epoch 6/10\n",
            "2/2 [==============================] - 14s 7s/step - loss: 0.6720 - accuracy: 0.6066\n",
            "Epoch 7/10\n",
            "2/2 [==============================] - 14s 7s/step - loss: 0.6682 - accuracy: 0.6066\n",
            "Epoch 8/10\n",
            "2/2 [==============================] - 14s 6s/step - loss: 0.6654 - accuracy: 0.6066\n",
            "Epoch 9/10\n",
            "2/2 [==============================] - 14s 6s/step - loss: 0.6762 - accuracy: 0.6066\n",
            "Epoch 10/10\n",
            "2/2 [==============================] - 14s 7s/step - loss: 0.6843 - accuracy: 0.6066\n"
          ]
        },
        {
          "output_type": "execute_result",
          "data": {
            "text/plain": [
              "<keras.callbacks.History at 0x7f161ae8a1f0>"
            ]
          },
          "metadata": {},
          "execution_count": 42
        }
      ],
      "source": [
        "CNN.fit(datagen.flow(X_train, Y_train,\n",
        "         subset='training'),epochs=10)"
      ]
    },
    {
      "cell_type": "code",
      "execution_count": null,
      "metadata": {
        "colab": {
          "base_uri": "https://localhost:8080/"
        },
        "id": "TqiFtpPYPx9W",
        "outputId": "360c1efe-becc-4060-a3fd-f5c0cc595773"
      },
      "outputs": [
        {
          "output_type": "stream",
          "name": "stdout",
          "text": [
            "1/1 [==============================] - 1s 1s/step - loss: 0.7232 - accuracy: 0.4286\n"
          ]
        },
        {
          "output_type": "execute_result",
          "data": {
            "text/plain": [
              "[0.7231748104095459, 0.4285714328289032]"
            ]
          },
          "metadata": {},
          "execution_count": 43
        }
      ],
      "source": [
        "CNN.evaluate(X_test,Y_test)"
      ]
    },
    {
      "cell_type": "markdown",
      "metadata": {
        "id": "dYT5pwKTt8xV"
      },
      "source": [
        "#finding fit for job or not VGG19"
      ]
    },
    {
      "cell_type": "code",
      "execution_count": null,
      "metadata": {
        "colab": {
          "base_uri": "https://localhost:8080/"
        },
        "id": "MPQdbfKwuEBd",
        "outputId": "571c90ef-33fb-44dc-f03f-428b540328f4"
      },
      "outputs": [
        {
          "name": "stdout",
          "output_type": "stream",
          "text": [
            "not done21\n",
            "not done22\n",
            "not done34\n",
            "not done37\n",
            "not done97\n"
          ]
        }
      ],
      "source": [
        "Image_train=[]\n",
        "Image_test=[]\n",
        "\n",
        "for i in range(102):\n",
        "   img=filtered[\"photo\"][i]\n",
        "   try:\n",
        "    image_path='/content/drive/MyDrive/image/final segmented image/'+img\n",
        "    image_r=cv2.imread(image_path)\n",
        "    image=cv2.resize(image_r,(224,224))\n",
        "\n",
        "    if i%5==0:\n",
        "      Class=filtered[\"Selected\"][i]\n",
        "      Image_test.append([image,Class])\n",
        "    else:\n",
        "      Class=filtered[\"Selected\"][i]\n",
        "      Image_train.append([image,Class])\n",
        "   except:\n",
        "    print(\"not done\"+str(i))"
      ]
    },
    {
      "cell_type": "code",
      "execution_count": null,
      "metadata": {
        "id": "9XFlAt76uEKO"
      },
      "outputs": [],
      "source": [
        "random.shuffle(Image_train)\n",
        "random.shuffle(Image_test)\n",
        "X_train=[]\n",
        "Y_train=[]\n",
        "X_test=[]\n",
        "Y_test=[]\n",
        "for x,y in Image_train:\n",
        "  X_train.append(x)\n",
        "  Y_train.append(y)\n",
        "for x,y in Image_test:\n",
        "  X_test.append(x)\n",
        "  Y_test.append(y)"
      ]
    },
    {
      "cell_type": "code",
      "execution_count": null,
      "metadata": {
        "id": "pWyZwO8juEP-"
      },
      "outputs": [],
      "source": [
        "X_train=np.array(X_train).reshape(-1,224,224,3)\n",
        "X_test=np.array(X_test).reshape(-1,224,224,3)\n",
        "X_train=X_train/255.0\n",
        "X_test=X_test/255\n",
        "Y_train=np.array(Y_train)\n",
        "Y_test=np.array(Y_test)"
      ]
    },
    {
      "cell_type": "code",
      "execution_count": null,
      "metadata": {
        "id": "v9Sv-_7ZuETI"
      },
      "outputs": [],
      "source": [
        "datagen = ImageDataGenerator(\n",
        "    featurewise_center=True,\n",
        "    featurewise_std_normalization=True,\n",
        "    rotation_range=20,\n",
        "    width_shift_range=0.2,\n",
        "    height_shift_range=0.2,\n",
        "    horizontal_flip=True,\n",
        "    validation_split=0.2)"
      ]
    },
    {
      "cell_type": "code",
      "execution_count": null,
      "metadata": {
        "id": "Ug4ZJq_guEWG"
      },
      "outputs": [],
      "source": [
        "datagen.fit(X_train)"
      ]
    },
    {
      "cell_type": "code",
      "execution_count": null,
      "metadata": {
        "id": "jR2I3GmCuhz3"
      },
      "outputs": [],
      "source": [
        "from keras.applications.vgg19 import VGG19,preprocess_input"
      ]
    },
    {
      "cell_type": "code",
      "execution_count": null,
      "metadata": {
        "colab": {
          "base_uri": "https://localhost:8080/"
        },
        "id": "-NbNAZ9Duh72",
        "outputId": "91b99b66-186b-45db-ad75-56f9df52a7cd"
      },
      "outputs": [
        {
          "name": "stdout",
          "output_type": "stream",
          "text": [
            "Downloading data from https://storage.googleapis.com/tensorflow/keras-applications/vgg19/vgg19_weights_tf_dim_ordering_tf_kernels_notop.h5\n",
            "80134624/80134624 [==============================] - 0s 0us/step\n"
          ]
        }
      ],
      "source": [
        "image_size=[224,224]\n",
        "Vgg=VGG19(input_shape=image_size + [3],weights='imagenet',include_top=False)\n",
        "for layer in Vgg.layers:\n",
        "  layer.trainable=False"
      ]
    },
    {
      "cell_type": "code",
      "execution_count": null,
      "metadata": {
        "id": "rG1jK6oe1bsW"
      },
      "outputs": [],
      "source": [
        "F=layers.Flatten()(Vgg.output)\n",
        "prediction=layers.Dense(1,activation='sigmoid')(F)"
      ]
    },
    {
      "cell_type": "code",
      "execution_count": null,
      "metadata": {
        "colab": {
          "base_uri": "https://localhost:8080/"
        },
        "id": "1iQsllSv2Mal",
        "outputId": "a90412da-d4dc-4810-bc1b-c37ba5683cf7"
      },
      "outputs": [
        {
          "data": {
            "text/plain": [
              "<bound method Model.summary of <keras.engine.functional.Functional object at 0x7ff07937bc10>>"
            ]
          },
          "execution_count": 31,
          "metadata": {},
          "output_type": "execute_result"
        }
      ],
      "source": [
        "VGG=Model(inputs=Vgg.input,outputs=prediction)\n",
        "VGG.summary"
      ]
    },
    {
      "cell_type": "code",
      "execution_count": null,
      "metadata": {
        "id": "qW_8u1BG3Gon"
      },
      "outputs": [],
      "source": [
        "VGG.compile(loss='binary_crossentropy',optimizer='adam',metrics=['accuracy'])"
      ]
    },
    {
      "cell_type": "code",
      "execution_count": null,
      "metadata": {
        "colab": {
          "base_uri": "https://localhost:8080/"
        },
        "id": "ZqfmgMns3Sww",
        "outputId": "4aceab3e-39d3-4913-81f5-5672c586d463"
      },
      "outputs": [
        {
          "name": "stdout",
          "output_type": "stream",
          "text": [
            "Epoch 1/10\n",
            "2/2 [==============================] - 39s 18s/step - loss: 0.7321 - accuracy: 0.5246\n",
            "Epoch 2/10\n",
            "2/2 [==============================] - 36s 17s/step - loss: 0.7270 - accuracy: 0.5574\n",
            "Epoch 3/10\n",
            "2/2 [==============================] - 36s 19s/step - loss: 0.6536 - accuracy: 0.6066\n",
            "Epoch 4/10\n",
            "2/2 [==============================] - 35s 18s/step - loss: 0.5912 - accuracy: 0.6885\n",
            "Epoch 5/10\n",
            "2/2 [==============================] - 36s 17s/step - loss: 0.5520 - accuracy: 0.7049\n",
            "Epoch 6/10\n",
            "2/2 [==============================] - 38s 19s/step - loss: 0.5483 - accuracy: 0.7377\n",
            "Epoch 7/10\n",
            "2/2 [==============================] - 35s 18s/step - loss: 0.5089 - accuracy: 0.8033\n",
            "Epoch 8/10\n",
            "2/2 [==============================] - 36s 17s/step - loss: 0.5129 - accuracy: 0.7705\n",
            "Epoch 9/10\n",
            "2/2 [==============================] - 36s 17s/step - loss: 0.4504 - accuracy: 0.8033\n",
            "Epoch 10/10\n",
            "2/2 [==============================] - 37s 20s/step - loss: 0.4512 - accuracy: 0.8033\n"
          ]
        },
        {
          "data": {
            "text/plain": [
              "<keras.callbacks.History at 0x7ff0799ded30>"
            ]
          },
          "execution_count": 33,
          "metadata": {},
          "output_type": "execute_result"
        }
      ],
      "source": [
        "VGG.fit(datagen.flow(X_train, Y_train,\n",
        "         subset='training'),epochs=10)"
      ]
    },
    {
      "cell_type": "code",
      "execution_count": null,
      "metadata": {
        "colab": {
          "base_uri": "https://localhost:8080/"
        },
        "id": "9PDnZPdM4WBO",
        "outputId": "16137fad-a0f9-4fa7-ef1e-cbc7dbd75241"
      },
      "outputs": [
        {
          "name": "stdout",
          "output_type": "stream",
          "text": [
            "1/1 [==============================] - 12s 12s/step - loss: 0.7925 - accuracy: 0.5714\n"
          ]
        },
        {
          "data": {
            "text/plain": [
              "[0.7924944758415222, 0.5714285969734192]"
            ]
          },
          "execution_count": 34,
          "metadata": {},
          "output_type": "execute_result"
        }
      ],
      "source": [
        "VGG.evaluate(X_test,Y_test)"
      ]
    },
    {
      "cell_type": "markdown",
      "metadata": {
        "id": "9Jj5MahC7NoO"
      },
      "source": [
        "#finding fit for job or not using VGG19 without data agmenteyion"
      ]
    },
    {
      "cell_type": "code",
      "execution_count": null,
      "metadata": {
        "colab": {
          "base_uri": "https://localhost:8080/"
        },
        "id": "_zGfvDYQ7SOd",
        "outputId": "d8ad5b77-1589-4891-d26f-c9b977d52bac"
      },
      "outputs": [
        {
          "name": "stdout",
          "output_type": "stream",
          "text": [
            "not done21\n",
            "not done22\n",
            "not done34\n",
            "not done37\n",
            "not done97\n"
          ]
        }
      ],
      "source": [
        "Image_train=[]\n",
        "Image_test=[]\n",
        "\n",
        "for i in range(102):\n",
        "   img=filtered[\"photo\"][i]\n",
        "   try:\n",
        "    image_path='/content/drive/MyDrive/image/final segmented image/'+img\n",
        "    image_r=cv2.imread(image_path)\n",
        "    image=cv2.resize(image_r,(224,224))\n",
        "\n",
        "    if i%5==0:\n",
        "      Class=filtered[\"Selected\"][i]\n",
        "      Image_test.append([image,Class])\n",
        "    else:\n",
        "      Class=filtered[\"Selected\"][i]\n",
        "      Image_train.append([image,Class])\n",
        "   except:\n",
        "    print(\"not done\"+str(i))"
      ]
    },
    {
      "cell_type": "code",
      "execution_count": null,
      "metadata": {
        "id": "HX2scWuf7SR0"
      },
      "outputs": [],
      "source": [
        "random.shuffle(Image_train)\n",
        "random.shuffle(Image_test)\n",
        "X_train=[]\n",
        "Y_train=[]\n",
        "X_test=[]\n",
        "Y_test=[]\n",
        "for x,y in Image_train:\n",
        "  X_train.append(x)\n",
        "  Y_train.append(y)\n",
        "for x,y in Image_test:\n",
        "  X_test.append(x)\n",
        "  Y_test.append(y)"
      ]
    },
    {
      "cell_type": "code",
      "execution_count": null,
      "metadata": {
        "id": "RZ4pctOq7SUm"
      },
      "outputs": [],
      "source": [
        "X_train=np.array(X_train).reshape(-1,224,224,3)\n",
        "X_test=np.array(X_test).reshape(-1,224,224,3)\n",
        "X_train=X_train/255.0\n",
        "X_test=X_test/255\n",
        "Y_train=np.array(Y_train)\n",
        "Y_test=np.array(Y_test)"
      ]
    },
    {
      "cell_type": "code",
      "execution_count": null,
      "metadata": {
        "id": "vRU05Py37SXk"
      },
      "outputs": [],
      "source": [
        "from keras.applications.vgg19 import VGG19,preprocess_input\n",
        "image_size=[224,224]\n",
        "Vgg=VGG19(input_shape=image_size + [3],weights='imagenet',include_top=False)\n",
        "for layer in Vgg.layers:\n",
        "  layer.trainable=False"
      ]
    },
    {
      "cell_type": "code",
      "execution_count": null,
      "metadata": {
        "id": "K8VLYTLL7ScV"
      },
      "outputs": [],
      "source": [
        "F=layers.Flatten()(Vgg.output)\n",
        "prediction=layers.Dense(1,activation='sigmoid')(F)"
      ]
    },
    {
      "cell_type": "code",
      "execution_count": null,
      "metadata": {
        "id": "DHZdS9sL7Sf4"
      },
      "outputs": [],
      "source": [
        "VGG=Model(inputs=Vgg.input,outputs=prediction)"
      ]
    },
    {
      "cell_type": "code",
      "execution_count": null,
      "metadata": {
        "id": "3pogT5977pNc"
      },
      "outputs": [],
      "source": [
        "VGG.compile(loss='binary_crossentropy',optimizer='adam',metrics=['accuracy'])"
      ]
    },
    {
      "cell_type": "code",
      "execution_count": null,
      "metadata": {
        "colab": {
          "base_uri": "https://localhost:8080/"
        },
        "id": "KlMHsJMG7vwO",
        "outputId": "ec967aa0-9628-4bb0-ec95-2333670fce87"
      },
      "outputs": [
        {
          "name": "stdout",
          "output_type": "stream",
          "text": [
            "Epoch 1/10\n",
            "3/3 [==============================] - 46s 13s/step - loss: 1.2700 - accuracy: 0.5000\n",
            "Epoch 2/10\n",
            "3/3 [==============================] - 47s 13s/step - loss: 0.8410 - accuracy: 0.5132\n",
            "Epoch 3/10\n",
            "3/3 [==============================] - 43s 13s/step - loss: 0.5889 - accuracy: 0.6579\n",
            "Epoch 4/10\n",
            "3/3 [==============================] - 43s 13s/step - loss: 0.5320 - accuracy: 0.6711\n",
            "Epoch 5/10\n",
            "3/3 [==============================] - 45s 14s/step - loss: 0.5887 - accuracy: 0.5658\n",
            "Epoch 6/10\n",
            "3/3 [==============================] - 43s 13s/step - loss: 0.3481 - accuracy: 0.8947\n",
            "Epoch 7/10\n",
            "3/3 [==============================] - 43s 13s/step - loss: 0.4027 - accuracy: 0.7632\n",
            "Epoch 8/10\n",
            "3/3 [==============================] - 43s 13s/step - loss: 0.2895 - accuracy: 0.9211\n",
            "Epoch 9/10\n",
            "3/3 [==============================] - 45s 13s/step - loss: 0.3169 - accuracy: 0.8947\n",
            "Epoch 10/10\n",
            "3/3 [==============================] - 43s 13s/step - loss: 0.2388 - accuracy: 0.9079\n"
          ]
        },
        {
          "data": {
            "text/plain": [
              "<keras.callbacks.History at 0x7ff07925b8b0>"
            ]
          },
          "execution_count": 42,
          "metadata": {},
          "output_type": "execute_result"
        }
      ],
      "source": [
        "VGG.fit(X_train,Y_train,epochs=10)"
      ]
    },
    {
      "cell_type": "code",
      "execution_count": null,
      "metadata": {
        "colab": {
          "base_uri": "https://localhost:8080/"
        },
        "id": "99ef3p6S70Zl",
        "outputId": "dd03dd00-df58-499d-91a8-f80810d09dc1"
      },
      "outputs": [
        {
          "name": "stdout",
          "output_type": "stream",
          "text": [
            "1/1 [==============================] - 12s 12s/step - loss: 1.0153 - accuracy: 0.5714\n"
          ]
        },
        {
          "data": {
            "text/plain": [
              "[1.0153024196624756, 0.5714285969734192]"
            ]
          },
          "execution_count": 43,
          "metadata": {},
          "output_type": "execute_result"
        }
      ],
      "source": [
        "VGG.evaluate(X_test,Y_test)"
      ]
    }
  ],
  "metadata": {
    "colab": {
      "provenance": []
    },
    "kernelspec": {
      "display_name": "Python 3",
      "name": "python3"
    },
    "language_info": {
      "name": "python"
    }
  },
  "nbformat": 4,
  "nbformat_minor": 0
}